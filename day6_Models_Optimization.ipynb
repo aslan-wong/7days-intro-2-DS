{
  "cells": [
    {
      "cell_type": "markdown",
      "metadata": {
        "id": "view-in-github",
        "colab_type": "text"
      },
      "source": [
        "<a href=\"https://colab.research.google.com/github/aslan-wong/7days-intro-2-DS/blob/main/day6_Models_Optimization.ipynb\" target=\"_parent\"><img src=\"https://colab.research.google.com/assets/colab-badge.svg\" alt=\"Open In Colab\"/></a>"
      ]
    },
    {
      "cell_type": "markdown",
      "metadata": {
        "id": "TprtqAhLn9w8"
      },
      "source": [
        "# CODING TASK #1: IMPORT DATASET AND LIBRARIES"
      ]
    },
    {
      "cell_type": "code",
      "execution_count": null,
      "metadata": {
        "id": "PVrKXCk4njhr"
      },
      "outputs": [],
      "source": [
        "import pandas as pd\n",
        "import numpy as np\n",
        "import seaborn as sns\n",
        "import matplotlib.pyplot as plt\n",
        "\n",
        "import warnings\n",
        "warnings.filterwarnings('ignore')"
      ]
    },
    {
      "cell_type": "code",
      "execution_count": null,
      "metadata": {
        "id": "S1soONkDu67P"
      },
      "outputs": [],
      "source": [
        "# import the csv files using pandas\n",
        "bike_df = pd.read_csv('bike_sharing_daily.csv')"
      ]
    },
    {
      "cell_type": "code",
      "execution_count": null,
      "metadata": {
        "id": "uI0FvZhxAtYy"
      },
      "outputs": [],
      "source": [
        "# Let's explore the dataframe\n",
        "bike_df"
      ]
    },
    {
      "cell_type": "code",
      "execution_count": null,
      "metadata": {
        "id": "ttlJONRUAtYz"
      },
      "outputs": [],
      "source": [
        "bike_df.head(5)"
      ]
    },
    {
      "cell_type": "code",
      "execution_count": null,
      "metadata": {
        "id": "8_QHnhB0AtYz"
      },
      "outputs": [],
      "source": [
        "bike_df.tail(10)"
      ]
    },
    {
      "cell_type": "code",
      "execution_count": null,
      "metadata": {
        "id": "OXmgbxysAtY0"
      },
      "outputs": [],
      "source": [
        "bike_df.info()"
      ]
    },
    {
      "cell_type": "markdown",
      "metadata": {
        "id": "XYfOBydFAtY1"
      },
      "source": [
        "**PRACTICE OPPORTUNITY #1 [OPTIONAL]:**\n",
        "- **Compare the Average casual, registered and total bike sharing demand**\n",
        "- **Does the average value of casual and registered sum up to the overall average total demand?**"
      ]
    },
    {
      "cell_type": "code",
      "source": [],
      "metadata": {
        "id": "y3QEsdo5z6VF"
      },
      "execution_count": null,
      "outputs": []
    },
    {
      "cell_type": "markdown",
      "source": [
        "# CODING TASK #2: PERFORM DATA CLEANING"
      ],
      "metadata": {
        "id": "jpdkbcpp0FnD"
      }
    },
    {
      "cell_type": "code",
      "execution_count": null,
      "metadata": {
        "id": "31HyV0MYAtY2"
      },
      "outputs": [],
      "source": [
        "sns.heatmap(bike_df.isnull())"
      ]
    },
    {
      "cell_type": "code",
      "execution_count": null,
      "metadata": {
        "id": "FElgJf9ZAtY2"
      },
      "outputs": [],
      "source": [
        "bike_df"
      ]
    },
    {
      "cell_type": "code",
      "execution_count": null,
      "metadata": {
        "id": "oV2pkba-AtY2"
      },
      "outputs": [],
      "source": [
        "bike_df = bike_df.drop(labels = ['instant'], axis = 1)\n",
        "bike_df"
      ]
    },
    {
      "cell_type": "code",
      "execution_count": null,
      "metadata": {
        "id": "Q8D_nMHhAtY2"
      },
      "outputs": [],
      "source": [
        "bike_df = bike_df.drop(labels = ['casual', 'registered'], axis = 1)\n",
        "bike_df"
      ]
    },
    {
      "cell_type": "code",
      "execution_count": null,
      "metadata": {
        "id": "xl6N3MX0AtY2"
      },
      "outputs": [],
      "source": [
        "bike_df['dteday'] = pd.to_datetime(bike_df['dteday'], format = '%m/%d/%Y')\n",
        "bike_df"
      ]
    },
    {
      "cell_type": "code",
      "execution_count": null,
      "metadata": {
        "id": "J2ZoyknZAtY3"
      },
      "outputs": [],
      "source": [
        "bike_df.index = pd.DatetimeIndex(bike_df['dteday'])\n",
        "bike_df"
      ]
    },
    {
      "cell_type": "code",
      "execution_count": null,
      "metadata": {
        "id": "pfEXk3yQAtY3"
      },
      "outputs": [],
      "source": [
        "bike_df = bike_df.drop(labels = ['dteday'], axis = 1)\n",
        "bike_df"
      ]
    },
    {
      "cell_type": "code",
      "execution_count": null,
      "metadata": {
        "id": "UJTpm6x_qsnG"
      },
      "outputs": [],
      "source": []
    },
    {
      "cell_type": "markdown",
      "metadata": {
        "id": "v7BpivmvAtY3"
      },
      "source": [
        "# CODING TASK #3: PERFORM DATA VISUALIZATION"
      ]
    },
    {
      "cell_type": "code",
      "execution_count": null,
      "metadata": {
        "id": "v_4wKaWhAtY3"
      },
      "outputs": [],
      "source": [
        "plt.figure(figsize = (12, 7))\n",
        "bike_df['cnt'].asfreq('W').plot(linewidth = 5)\n",
        "plt.title('Bike Rental Usage Per Week')\n",
        "plt.xlabel('Week')\n",
        "plt.ylabel('Bike Rental')\n",
        "plt.grid()"
      ]
    },
    {
      "cell_type": "code",
      "execution_count": null,
      "metadata": {
        "id": "alL_TXc0AtY3"
      },
      "outputs": [],
      "source": [
        "plt.figure(figsize = (12, 7))\n",
        "bike_df['cnt'].asfreq('M').plot(linewidth = 5)\n",
        "plt.title('Bike Rental Usage Per Month')\n",
        "plt.xlabel('Month')\n",
        "plt.ylabel('Bike Rental')\n",
        "plt.grid()"
      ]
    },
    {
      "cell_type": "code",
      "execution_count": null,
      "metadata": {
        "id": "v906OaYMAtY4"
      },
      "outputs": [],
      "source": [
        "X_numerical = bike_df[['temp', 'hum', 'windspeed', 'cnt']]\n",
        "X_numerical"
      ]
    },
    {
      "cell_type": "code",
      "execution_count": null,
      "metadata": {
        "id": "34cUsDSIAtY4"
      },
      "outputs": [],
      "source": [
        "sns.pairplot(X_numerical);"
      ]
    },
    {
      "cell_type": "code",
      "execution_count": null,
      "metadata": {
        "id": "tClh38SwAtY4"
      },
      "outputs": [],
      "source": [
        "plt.figure(figsize = (8, 6))\n",
        "sns.heatmap(X_numerical.corr(), annot = True);"
      ]
    },
    {
      "cell_type": "markdown",
      "metadata": {
        "id": "R7OtqZ58AtY4"
      },
      "source": [
        "**PRACTICE OPPORTUNITY #2 [OPTIONAL]:**\n",
        "- **Plot the rental usage per quarter**\n",
        "- **Set the line width to 6 and enable the grid**"
      ]
    },
    {
      "cell_type": "code",
      "execution_count": null,
      "metadata": {
        "id": "mg9AaAQwAtY4"
      },
      "outputs": [],
      "source": []
    },
    {
      "cell_type": "markdown",
      "metadata": {
        "id": "0ba7vN0fAtY6"
      },
      "source": [
        "# CODING TASK #4: CREATE TRAINING AND TESTING DATASET"
      ]
    },
    {
      "cell_type": "code",
      "execution_count": null,
      "metadata": {
        "id": "u-QYx0P9AtY5"
      },
      "outputs": [],
      "source": [
        "X_cat = bike_df[['season', 'yr', 'mnth', 'holiday', 'weekday', 'workingday', 'weathersit']]\n",
        "X_cat"
      ]
    },
    {
      "cell_type": "code",
      "execution_count": null,
      "metadata": {
        "id": "pJBcTiLMAtY5"
      },
      "outputs": [],
      "source": [
        "from sklearn.preprocessing import OneHotEncoder\n",
        "onehotencoder = OneHotEncoder()\n",
        "X_cat = onehotencoder.fit_transform(X_cat).toarray()\n",
        "X_cat"
      ]
    },
    {
      "cell_type": "code",
      "execution_count": null,
      "metadata": {
        "id": "9xNnSiEqAtY5"
      },
      "outputs": [],
      "source": [
        "X_cat.shape"
      ]
    },
    {
      "cell_type": "code",
      "execution_count": null,
      "metadata": {
        "id": "CT-yl5q3AtY5"
      },
      "outputs": [],
      "source": [
        "X_cat = pd.DataFrame(X_cat)"
      ]
    },
    {
      "cell_type": "code",
      "execution_count": null,
      "metadata": {
        "id": "2vrsQNmuAtY5"
      },
      "outputs": [],
      "source": [
        "X_numerical"
      ]
    },
    {
      "cell_type": "code",
      "execution_count": null,
      "metadata": {
        "id": "qr1gkLkCAtY5"
      },
      "outputs": [],
      "source": [
        "X_numerical = X_numerical.reset_index()\n",
        "X_numerical"
      ]
    },
    {
      "cell_type": "code",
      "execution_count": null,
      "metadata": {
        "id": "ND6ksZvlAtY5"
      },
      "outputs": [],
      "source": [
        "X_all = pd.concat([X_cat, X_numerical], axis = 1)\n",
        "X_all"
      ]
    },
    {
      "cell_type": "code",
      "execution_count": null,
      "metadata": {
        "id": "kbpNbkyMAtY5"
      },
      "outputs": [],
      "source": [
        "X_all = X_all.drop('dteday', axis = 1)\n",
        "X_all"
      ]
    },
    {
      "cell_type": "code",
      "execution_count": null,
      "metadata": {
        "id": "mE1zq6SAAtY5"
      },
      "outputs": [],
      "source": [
        "X = X_all.iloc[:, :-1].values\n",
        "y = X_all.iloc[:, -1:].values"
      ]
    },
    {
      "cell_type": "code",
      "execution_count": null,
      "metadata": {
        "id": "gtcdKW2HAtY6"
      },
      "outputs": [],
      "source": [
        "X.shape"
      ]
    },
    {
      "cell_type": "code",
      "execution_count": null,
      "metadata": {
        "id": "RLZ3e-gZAtY6"
      },
      "outputs": [],
      "source": [
        "y.shape"
      ]
    },
    {
      "cell_type": "code",
      "execution_count": null,
      "metadata": {
        "id": "on3NLnVwAtY6"
      },
      "outputs": [],
      "source": [
        "from sklearn.model_selection import train_test_split\n",
        "X_train, X_test, y_train, y_test = train_test_split(X, y, test_size = 0.2)"
      ]
    },
    {
      "cell_type": "code",
      "execution_count": null,
      "metadata": {
        "id": "XM4oIlQfAtY6"
      },
      "outputs": [],
      "source": [
        "X_train.shape"
      ]
    },
    {
      "cell_type": "code",
      "execution_count": null,
      "metadata": {
        "id": "QBasuJhFAtY6"
      },
      "outputs": [],
      "source": [
        "X_test.shape"
      ]
    },
    {
      "cell_type": "markdown",
      "source": [
        "# CODING TASK #5: TRAIN AN XG-BOOST ALGORITHM (WITHOUT OPTIMIZATION)"
      ],
      "metadata": {
        "id": "QMD_7zTc0m-Y"
      }
    },
    {
      "cell_type": "code",
      "execution_count": null,
      "metadata": {
        "id": "jzsnqIBIAtY6"
      },
      "outputs": [],
      "source": [
        "!pip install xgboost"
      ]
    },
    {
      "cell_type": "code",
      "execution_count": null,
      "metadata": {
        "id": "jBnesn00AtY6"
      },
      "outputs": [],
      "source": [
        "# Train an XGBoost regressor model\n",
        "\n",
        "import xgboost as xgb\n",
        "model = xgb.XGBRegressor(objective ='reg:squarederror', learning_rate = 1, max_depth = 20, n_estimators = 500)\n",
        "model.fit(X_train, y_train)"
      ]
    },
    {
      "cell_type": "code",
      "execution_count": null,
      "metadata": {
        "id": "jmBFbuMfAtY6"
      },
      "outputs": [],
      "source": [
        "# predict the score of the trained model using the testing dataset\n",
        "\n",
        "result = model.score(X_test, y_test)\n",
        "print(\"Accuracy : {}\".format(result))"
      ]
    },
    {
      "cell_type": "code",
      "execution_count": null,
      "metadata": {
        "id": "0zVxkdiwAtY7"
      },
      "outputs": [],
      "source": [
        "# make predictions on the test data\n",
        "y_predict = model.predict(X_test)\n"
      ]
    },
    {
      "cell_type": "code",
      "execution_count": null,
      "metadata": {
        "id": "2Hc3jzCAAtY7"
      },
      "outputs": [],
      "source": [
        "y_test"
      ]
    },
    {
      "cell_type": "code",
      "execution_count": null,
      "metadata": {
        "id": "bLJGjGxUAtY7"
      },
      "outputs": [],
      "source": [
        "y_predict"
      ]
    },
    {
      "cell_type": "code",
      "execution_count": null,
      "metadata": {
        "id": "zlU2Rti6AtY7"
      },
      "outputs": [],
      "source": [
        "from sklearn.metrics import r2_score, mean_squared_error, mean_absolute_error\n",
        "from math import sqrt\n",
        "k = X_test.shape[1]\n",
        "n = len(X_test)\n",
        "RMSE = float(format(np.sqrt(mean_squared_error(y_test, y_predict)),'.3f'))\n",
        "MSE = mean_squared_error(y_test, y_predict)\n",
        "MAE = mean_absolute_error(y_test, y_predict)\n",
        "r2 = r2_score(y_test, y_predict)\n",
        "adj_r2 = 1-(1-r2)*(n-1)/(n-k-1)\n",
        "\n",
        "print('RMSE =',RMSE, '\\nMSE =',MSE, '\\nMAE =',MAE, '\\nR2 =', r2, '\\nAdjusted R2 =', adj_r2)"
      ]
    },
    {
      "cell_type": "markdown",
      "metadata": {
        "id": "BOLMLUWoAtY7"
      },
      "source": [
        "**PRACTICE OPPORTUNITY #3 [OPTIONAL]:**\n",
        "- **Retrain the model with less 'max_depth'**\n",
        "- **Comment on the results**"
      ]
    },
    {
      "cell_type": "code",
      "execution_count": null,
      "metadata": {
        "id": "0JLfaFhVAtY7"
      },
      "outputs": [],
      "source": []
    },
    {
      "cell_type": "markdown",
      "metadata": {
        "id": "pYY3ypE7AtY7"
      },
      "source": [
        "# CODING TASK #6: MODEL OPTIMIZATION USING GRIDSEARCH"
      ]
    },
    {
      "cell_type": "code",
      "execution_count": null,
      "metadata": {
        "id": "mRGBA7PrAtY7"
      },
      "outputs": [],
      "source": [
        "from sklearn.model_selection import GridSearchCV"
      ]
    },
    {
      "cell_type": "code",
      "execution_count": null,
      "metadata": {
        "id": "vkfhTcnpAtY8"
      },
      "outputs": [],
      "source": [
        "parameters_grid = { 'max_depth': [3, 6, 10],\n",
        "                   'learning_rate': [0.01, 0.05, 0.1],\n",
        "                   'n_estimators': [100, 500, 1000],\n",
        "                   'colsample_bytree': [0.3, 0.7]}"
      ]
    },
    {
      "cell_type": "code",
      "execution_count": null,
      "metadata": {
        "id": "xA7Yt6KZAtY8"
      },
      "outputs": [],
      "source": [
        "import xgboost as xgb"
      ]
    },
    {
      "cell_type": "code",
      "execution_count": null,
      "metadata": {
        "id": "mNoTTGKfAtY8"
      },
      "outputs": [],
      "source": [
        "model = xgb.XGBRegressor(objective ='reg:squarederror')"
      ]
    },
    {
      "cell_type": "code",
      "execution_count": null,
      "metadata": {
        "id": "FbsP42TsAtY8"
      },
      "outputs": [],
      "source": [
        "# Note that we used the \"neg_mean_squared_error\" since GridSearchCV() ranks all the algorithms (estimators)\n",
        "# and specifies which one is the best. We are trying to minimize the error.\n",
        "xgb_gridsearch = GridSearchCV(estimator = model,\n",
        "                              param_grid = parameters_grid,\n",
        "                              scoring = 'neg_mean_squared_error',\n",
        "                              cv = 5,\n",
        "                              verbose = 5)"
      ]
    },
    {
      "cell_type": "code",
      "execution_count": null,
      "metadata": {
        "id": "FiOqEYk2AtY8"
      },
      "outputs": [],
      "source": [
        "xgb_gridsearch.fit(X_train, y_train)"
      ]
    },
    {
      "cell_type": "code",
      "execution_count": null,
      "metadata": {
        "id": "UUvxIy9HAtY8"
      },
      "outputs": [],
      "source": [
        "xgb_gridsearch.best_params_"
      ]
    },
    {
      "cell_type": "code",
      "execution_count": null,
      "metadata": {
        "id": "X7pQwio0AtY8"
      },
      "outputs": [],
      "source": [
        "xgb_gridsearch.best_estimator_"
      ]
    },
    {
      "cell_type": "code",
      "execution_count": null,
      "metadata": {
        "id": "K_vC3NPhAtY8"
      },
      "outputs": [],
      "source": [
        "y_predict = xgb_gridsearch.predict(X_test)"
      ]
    },
    {
      "cell_type": "code",
      "execution_count": null,
      "metadata": {
        "id": "rzJ8na2QAtY8"
      },
      "outputs": [],
      "source": [
        "from sklearn.metrics import r2_score, mean_squared_error, mean_absolute_error\n",
        "from math import sqrt\n",
        "k = X_test.shape[1]\n",
        "n = len(X_test)\n",
        "RMSE = float(format(np.sqrt(mean_squared_error(y_test, y_predict)),'.3f'))\n",
        "MSE = mean_squared_error(y_test, y_predict)\n",
        "MAE = mean_absolute_error(y_test, y_predict)\n",
        "r2 = r2_score(y_test, y_predict)\n",
        "adj_r2 = 1-(1-r2)*(n-1)/(n-k-1)\n",
        "\n",
        "print('RMSE =',RMSE, '\\nMSE =',MSE, '\\nMAE =',MAE, '\\nR2 =', r2, '\\nAdjusted R2 =', adj_r2)"
      ]
    },
    {
      "cell_type": "markdown",
      "metadata": {
        "id": "Qa9QZX_zAtY9"
      },
      "source": [
        "**PRACTICE OPPORTUNITY #4 [OPTIONAL]:**\n",
        "- **Expand on the parameter grid to include an additional hyperparameter \"gamma\"**\n",
        "- **Try any three reasonable values for gamma. How many fits are run this time? Comment on the results**\n"
      ]
    },
    {
      "cell_type": "code",
      "execution_count": null,
      "metadata": {
        "id": "U_SHUbKzAtY9"
      },
      "outputs": [],
      "source": []
    },
    {
      "cell_type": "markdown",
      "metadata": {
        "id": "hYxZ57ijAtY9"
      },
      "source": [
        "# CODING TASK #7: MODEL OPTIMIZATION USING RANDOM SEARCH"
      ]
    },
    {
      "cell_type": "code",
      "execution_count": null,
      "metadata": {
        "id": "nnO0IH8PAtY9"
      },
      "outputs": [],
      "source": [
        "from sklearn.model_selection import RandomizedSearchCV"
      ]
    },
    {
      "cell_type": "code",
      "execution_count": null,
      "metadata": {
        "id": "4XzTf7pQAtY9"
      },
      "outputs": [],
      "source": [
        "# Define the grid of hyperparameters to search\n",
        "\n",
        "# you can choose which booster you'd like to choose:\n",
        "# Two options are available: gbtree, gblinear\n",
        "# gbtree uses tree based models while gblinear uses linear functions\n",
        "\n",
        "grid = {\n",
        "    'n_estimators': [100, 500, 700],\n",
        "    'max_depth': [2, 3, 5],\n",
        "    'learning_rate': [0.1, 0.5, 1],\n",
        "    'min_child_weight': [1, 2, 3]\n",
        "            }\n",
        "\n",
        "# grid = {\n",
        "#    'n_estimators': [100, 500, 700],\n",
        "#     'max_depth': [2, 3, 5],\n",
        "#     'learning_rate': [0.1, 0.5, 1],\n",
        "#      'min_child_weight': [1, 2, 3],\n",
        "#     'booster': ['gbtree','gblinear']}\n",
        "\n",
        "import xgboost as xgb\n",
        "model = xgb.XGBRegressor(objective ='reg:squarederror')\n",
        "\n",
        "# Set up the random search\n",
        "random_cv = RandomizedSearchCV(estimator = model,\n",
        "                               param_distributions = grid,\n",
        "                               cv = 5,\n",
        "                               n_iter = 50,\n",
        "                               scoring = 'neg_mean_absolute_error',\n",
        "                               verbose = 5,\n",
        "                               return_train_score = True)\n",
        "random_cv.fit(X_train, y_train)\n",
        "\n",
        "random_cv.best_estimator_\n"
      ]
    },
    {
      "cell_type": "code",
      "execution_count": null,
      "metadata": {
        "id": "hZDOj2uyAtY9"
      },
      "outputs": [],
      "source": [
        "y_predict = random_cv.predict(X_test)"
      ]
    },
    {
      "cell_type": "code",
      "execution_count": null,
      "metadata": {
        "id": "1XSwUAjuAtY9"
      },
      "outputs": [],
      "source": [
        "from sklearn.metrics import r2_score, mean_squared_error, mean_absolute_error\n",
        "from math import sqrt\n",
        "k = X_test.shape[1]\n",
        "n = len(X_test)\n",
        "RMSE = float(format(np.sqrt(mean_squared_error(y_test, y_predict)),'.3f'))\n",
        "MSE = mean_squared_error(y_test, y_predict)\n",
        "MAE = mean_absolute_error(y_test, y_predict)\n",
        "r2 = r2_score(y_test, y_predict)\n",
        "adj_r2 = 1-(1-r2)*(n-1)/(n-k-1)\n",
        "\n",
        "print('RMSE =',RMSE, '\\nMSE =',MSE, '\\nMAE =',MAE, '\\nR2 =', r2, '\\nAdjusted R2 =', adj_r2)"
      ]
    },
    {
      "cell_type": "markdown",
      "metadata": {
        "id": "rbFxtloFAtY9"
      },
      "source": [
        "# CODING TASK #8: MODEL OPTIMIZATION USING BAYESIAN OPTIMIZATION"
      ]
    },
    {
      "cell_type": "code",
      "execution_count": null,
      "metadata": {
        "id": "LA91oC-IAtY9"
      },
      "outputs": [],
      "source": [
        "# Let's install a library called Scikit-Optimize (Skopt) which is used to perform bayesian optimization\n",
        "# BayesSearchCV class is used in a similar fashion to GridSearchCV\n",
        "# You secify the search space as a distribution instead of discrete values\n",
        "\n",
        "! pip install scikit-optimize\n",
        "from skopt import BayesSearchCV\n",
        "import xgboost as xgb\n"
      ]
    },
    {
      "cell_type": "code",
      "execution_count": null,
      "metadata": {
        "id": "HCQntcRUAtY9"
      },
      "outputs": [],
      "source": [
        "model = xgb.XGBRegressor(objective ='reg:squarederror')"
      ]
    },
    {
      "cell_type": "code",
      "execution_count": null,
      "metadata": {
        "id": "8RM8Pe3bAtY-"
      },
      "outputs": [],
      "source": [
        "search_space = {\n",
        "    \"learning_rate\": (0.01, 1.0, \"log-uniform\"),\n",
        "    \"max_depth\": (1, 50),\n",
        "    \"n_estimators\": (5, 500),\n",
        "}"
      ]
    },
    {
      "cell_type": "code",
      "execution_count": null,
      "metadata": {
        "id": "qs4tMJAeAtY-"
      },
      "outputs": [],
      "source": [
        "xgb_bayes_search = BayesSearchCV(model,\n",
        "                               search_space,\n",
        "                               n_iter = 50,\n",
        "                               scoring = 'neg_mean_absolute_error',\n",
        "                               cv = 5)"
      ]
    },
    {
      "cell_type": "code",
      "execution_count": null,
      "metadata": {
        "colab": {
          "background_save": true
        },
        "id": "4AHenJDkAtY-"
      },
      "outputs": [],
      "source": [
        "result = xgb_bayes_search.fit(X_train, y_train)"
      ]
    },
    {
      "cell_type": "code",
      "execution_count": null,
      "metadata": {
        "colab": {
          "background_save": true
        },
        "id": "wIisLT3eAtY-"
      },
      "outputs": [],
      "source": [
        "y_predict = xgb_bayes_search.predict(X_test)"
      ]
    },
    {
      "cell_type": "code",
      "execution_count": null,
      "metadata": {
        "colab": {
          "background_save": true
        },
        "id": "ACGAPyhmAtY-"
      },
      "outputs": [],
      "source": [
        "from sklearn.metrics import r2_score, mean_squared_error, mean_absolute_error\n",
        "from math import sqrt\n",
        "k = X_test.shape[1]\n",
        "n = len(X_test)\n",
        "RMSE = float(format(np.sqrt(mean_squared_error(y_test, y_predict)),'.3f'))\n",
        "MSE = mean_squared_error(y_test, y_predict)\n",
        "MAE = mean_absolute_error(y_test, y_predict)\n",
        "r2 = r2_score(y_test, y_predict)\n",
        "adj_r2 = 1-(1-r2)*(n-1)/(n-k-1)\n",
        "\n",
        "print('RMSE =',RMSE, '\\nMSE =',MSE, '\\nMAE =',MAE, '\\nR2 =', r2, '\\nAdjusted R2 =', adj_r2)"
      ]
    },
    {
      "cell_type": "markdown",
      "metadata": {
        "id": "lMjdjE7KAtY-"
      },
      "source": [
        "# FINAL CAPSTONE PROJECT"
      ]
    },
    {
      "cell_type": "markdown",
      "metadata": {
        "id": "MTbn-kzyAtY-"
      },
      "source": [
        "Using the used car prices dataset included in the course package, perform the following:\n",
        "1. Load the “used_car_price.csv” dataset\n",
        "3. Split the data into 75% for training and 25% for testing\n",
        "4. Train an XG-Boost model in Scikit-Learn\n",
        "5. Assess trained XG-Boost model performance using RMSE and R2\n",
        "6. Perform hyperparameters optimization using GridSearch, choose any reasonable values for max_depth, learning_rate, n_estimators, and colsample_bytree. Use 5 cross validation folds.  \n",
        "7. Perform hyperparameters optimization using RandomSearch, choose any reasonable values for max_depth, learning_rate, n_estimators, and colsample_bytree. Use 5 cross validation folds and 100 iterations.  \n",
        "8. Perform hyperparameters optimization using Bayesian optimization, choose any reasonable values for max_depth, learning_rate, n_estimators. Use 5 cross validation folds and 100 iterations.  \n",
        "9. Compare the 3 optimization strategies using RMSE and R2."
      ]
    },
    {
      "cell_type": "markdown",
      "metadata": {
        "id": "8nb_ykbVAtY-"
      },
      "source": [
        "# FINAL CAPSTONE PROJECT SOLUTION"
      ]
    },
    {
      "cell_type": "code",
      "execution_count": null,
      "metadata": {
        "colab": {
          "background_save": true
        },
        "id": "bnwueXv-AtY-"
      },
      "outputs": [],
      "source": [
        "import pandas as pd\n",
        "import numpy as np\n",
        "import seaborn as sns\n",
        "import matplotlib.pyplot as plt"
      ]
    },
    {
      "cell_type": "code",
      "execution_count": null,
      "metadata": {
        "colab": {
          "background_save": true
        },
        "id": "5T7q7_GgAtY_"
      },
      "outputs": [],
      "source": [
        "# Read the CSV file\n",
        "car_df = pd.read_csv(\"used_car_price.csv\")"
      ]
    },
    {
      "cell_type": "code",
      "execution_count": null,
      "metadata": {
        "colab": {
          "background_save": true
        },
        "id": "7AyQjiUuAtY_"
      },
      "outputs": [],
      "source": [
        "# Load the top 6 instances\n",
        "car_df.head(6)"
      ]
    },
    {
      "cell_type": "code",
      "execution_count": null,
      "metadata": {
        "colab": {
          "background_save": true
        },
        "id": "k0WMMzIvAtY_"
      },
      "outputs": [],
      "source": [
        "# Perform One-Hot Encoding for \"Make\", \"Model\", \"Type\", \"Origin\", and \"DriveTrain\"\n",
        "car_df = pd.get_dummies(car_df, columns=[\"Make\", \"Model\", \"Type\", \"Origin\", \"DriveTrain\"])"
      ]
    },
    {
      "cell_type": "code",
      "execution_count": null,
      "metadata": {
        "colab": {
          "background_save": true
        },
        "id": "uEzIbItpAtY_"
      },
      "outputs": [],
      "source": [
        "# Feeding input features to X and output (MSRP) to y\n",
        "X = car_df.drop(\"MSRP\", axis = 1)\n",
        "y = car_df[\"MSRP\"]"
      ]
    },
    {
      "cell_type": "code",
      "execution_count": null,
      "metadata": {
        "colab": {
          "background_save": true
        },
        "id": "oNM-_dGNAtY_"
      },
      "outputs": [],
      "source": [
        "X = np.array(X)"
      ]
    },
    {
      "cell_type": "code",
      "execution_count": null,
      "metadata": {
        "colab": {
          "background_save": true
        },
        "id": "ZjmrmCdOAtY_"
      },
      "outputs": [],
      "source": [
        "y = np.array(y)"
      ]
    },
    {
      "cell_type": "code",
      "execution_count": null,
      "metadata": {
        "colab": {
          "background_save": true
        },
        "id": "7RNsmGoyAtZA"
      },
      "outputs": [],
      "source": [
        "from sklearn.model_selection import train_test_split\n",
        "X_train, X_test, y_train, y_test= train_test_split(X, y, test_size = 0.25)"
      ]
    },
    {
      "cell_type": "code",
      "execution_count": null,
      "metadata": {
        "colab": {
          "background_save": true
        },
        "id": "kFm9OLu-AtZA"
      },
      "outputs": [],
      "source": [
        "X_train.shape"
      ]
    },
    {
      "cell_type": "code",
      "execution_count": null,
      "metadata": {
        "colab": {
          "background_save": true
        },
        "id": "xIj60eMyAtZA"
      },
      "outputs": [],
      "source": [
        "X_test.shape"
      ]
    },
    {
      "cell_type": "markdown",
      "metadata": {
        "id": "sUE0CIC2AtZA"
      },
      "source": [
        "# 1. XG-BOOST WITHOUT OPTIMIZATION"
      ]
    },
    {
      "cell_type": "code",
      "execution_count": null,
      "metadata": {
        "colab": {
          "background_save": true
        },
        "id": "Xbh9M2tLAtZA"
      },
      "outputs": [],
      "source": [
        "!pip install xgboost\n",
        "import xgboost as xgb\n",
        "model = xgb.XGBRegressor(objective ='reg:squarederror', learning_rate = 1, max_depth = 3, n_estimators = 500)\n",
        "model.fit(X_train, y_train)\n",
        "\n",
        "# predict the score of the trained model using the testing dataset\n",
        "\n",
        "result = model.score(X_test, y_test)\n",
        "# make predictions on the test data\n",
        "y_predict = model.predict(X_test)\n",
        "\n",
        "from sklearn.metrics import r2_score, mean_squared_error, mean_absolute_error\n",
        "from math import sqrt\n",
        "\n",
        "RMSE = float(format(np.sqrt(mean_squared_error(y_test, y_predict)),'.3f'))\n",
        "r2 = r2_score(y_test, y_predict)\n",
        "\n",
        "print('RMSE =',RMSE,'\\nR2 =', r2)\n",
        "\n"
      ]
    },
    {
      "cell_type": "markdown",
      "metadata": {
        "id": "thS3js2DAtZA"
      },
      "source": [
        "# 2. XG-BOOST WITH GRIDSEARCH"
      ]
    },
    {
      "cell_type": "code",
      "execution_count": null,
      "metadata": {
        "colab": {
          "background_save": true
        },
        "id": "SiYcwdksAtZA"
      },
      "outputs": [],
      "source": [
        "from sklearn.model_selection import GridSearchCV\n",
        "parameters_grid = { 'max_depth': [3, 10, 20],\n",
        "                   'learning_rate': [0.1, 0.5],\n",
        "                   'n_estimators': [100, 500],\n",
        "                   'colsample_bytree': [0.3, 0.7]}\n",
        "\n",
        "model = xgb.XGBRegressor(objective ='reg:squarederror')\n",
        "\n",
        "# Note that we used the \"neg_mean_squared_error\" since GridSearchCV() ranks all the algorithms (estimators)\n",
        "# and specifies which one is the best. We are trying to minimize the error.\n",
        "xgb_gridsearch = GridSearchCV(estimator = model,\n",
        "                              param_grid = parameters_grid,\n",
        "                              scoring = 'neg_mean_squared_error',\n",
        "                              cv = 5,\n",
        "                              verbose = 5)\n",
        "\n",
        "xgb_gridsearch.fit(X_train, y_train)\n",
        "y_predict = xgb_gridsearch.predict(X_test)\n",
        "\n",
        "from sklearn.metrics import r2_score, mean_squared_error\n",
        "from math import sqrt\n",
        "\n",
        "RMSE = float(format(np.sqrt(mean_squared_error(y_test, y_predict)),'.3f'))\n",
        "r2 = r2_score(y_test, y_predict)\n",
        "\n",
        "print('RMSE =',RMSE,'\\nR2 =', r2)\n"
      ]
    },
    {
      "cell_type": "markdown",
      "metadata": {
        "id": "TZjsulNxAtZA"
      },
      "source": [
        "# 2. XG-BOOST WITH RANDOMSEARCH"
      ]
    },
    {
      "cell_type": "code",
      "execution_count": null,
      "metadata": {
        "colab": {
          "background_save": true
        },
        "id": "1-fCbQu5AtZB"
      },
      "outputs": [],
      "source": [
        "from sklearn.model_selection import RandomizedSearchCV\n",
        "\n",
        "# Define the grid of hyperparameters to search\n",
        "\n",
        "# you can choose which booster you'd like to choose:\n",
        "# Two options are available: gbtree, gblinear\n",
        "# gbtree uses tree based models while gblinear uses linear functions\n",
        "\n",
        "grid = {\n",
        "    'n_estimators': [100, 500],\n",
        "    'max_depth': [3, 10, 20],\n",
        "    'learning_rate': [0.1, 0.5],\n",
        "    'colsample_bytree': [0.3, 0.7]}\n",
        "\n",
        "\n",
        "import xgboost as xgb\n",
        "model = xgb.XGBRegressor(objective ='reg:squarederror')\n",
        "\n",
        "# Set up the random search\n",
        "random_cv = RandomizedSearchCV(estimator = model,\n",
        "                               param_distributions = grid,\n",
        "                               cv = 5,\n",
        "                               n_iter = 100,\n",
        "                               scoring = 'neg_mean_absolute_error',\n",
        "                               verbose = 5,\n",
        "                               return_train_score = True)\n",
        "random_cv.fit(X_train, y_train)\n",
        "\n",
        "random_cv.best_estimator_\n",
        "y_predict = random_cv.predict(X_test)\n",
        "\n",
        "\n",
        "from sklearn.metrics import r2_score, mean_squared_error\n",
        "from math import sqrt\n",
        "\n",
        "RMSE = float(format(np.sqrt(mean_squared_error(y_test, y_predict)),'.3f'))\n",
        "r2 = r2_score(y_test, y_predict)\n",
        "\n",
        "print('RMSE =',RMSE,'\\nR2 =', r2)\n"
      ]
    },
    {
      "cell_type": "markdown",
      "metadata": {
        "id": "Srzk3bbhAtZB"
      },
      "source": [
        "# 3. XG-BOOST WITH BAYESIAN OPTIMIZATION"
      ]
    },
    {
      "cell_type": "code",
      "execution_count": null,
      "metadata": {
        "id": "J_jnwqT5AtZB"
      },
      "outputs": [],
      "source": [
        "! pip install scikit-optimize\n",
        "from skopt import BayesSearchCV\n",
        "# from skopt.space import Real, Categorical, Integer\n",
        "\n",
        "search_space = {\n",
        "        \"max_depth\": (4, 20, 'log-uniform'),\n",
        "        \"n_estimators\": (2, 100, 'log-uniform'),\n",
        "        'learning_rate': (0.01, 1.0, 'log-uniform')}\n",
        "\n",
        "import xgboost as xgb\n",
        "model = xgb.XGBRegressor(objective ='reg:squarederror')\n",
        "\n",
        "xgb_bayes_search = BayesSearchCV(model,\n",
        "                                    search_space,\n",
        "                                    n_iter = 100,\n",
        "                                    scoring = 'neg_mean_absolute_error',\n",
        "                                    cv = 5)\n",
        "\n",
        "xgb_bayes_search.fit(X_train, y_train)\n",
        "\n",
        "y_predict = xgb_bayes_search.predict(X_test)\n",
        "\n",
        "from sklearn.metrics import r2_score, mean_squared_error\n",
        "from math import sqrt\n",
        "\n",
        "RMSE = float(format(np.sqrt(mean_squared_error(y_test, y_predict)),'.3f'))\n",
        "r2 = r2_score(y_test, y_predict)\n",
        "\n",
        "print('RMSE =',RMSE,'\\nR2 =', r2)\n"
      ]
    },
    {
      "cell_type": "markdown",
      "metadata": {
        "id": "OQd6Q4j2AtZB"
      },
      "source": [
        "# PRACTICE OPPORTUNITIES SOLUTION"
      ]
    },
    {
      "cell_type": "markdown",
      "metadata": {
        "id": "_62QjQ0RAtZB"
      },
      "source": [
        "**PRACTICE OPPORTUNITY #1 SOLUTION:**\n",
        "- **What is the average, minimum and maximum registered bike rental usage?**"
      ]
    },
    {
      "cell_type": "code",
      "execution_count": null,
      "metadata": {
        "id": "YJtGUKlfAtZB"
      },
      "outputs": [],
      "source": [
        "bike_df.describe()"
      ]
    },
    {
      "cell_type": "markdown",
      "metadata": {
        "id": "PX09RaXcAtZC"
      },
      "source": [
        "**PRACTICE OPPORTUNITY #2 SOLUTION:**\n",
        "- **Plot the rental usage per quarter**\n",
        "- **Set the line width to 6 and enable the grid**"
      ]
    },
    {
      "cell_type": "code",
      "execution_count": null,
      "metadata": {
        "id": "t4HBUYYZAtZC"
      },
      "outputs": [],
      "source": [
        "bike_df['cnt'].asfreq('Q').plot(linewidth = 6)\n",
        "plt.title('Bike Usage Per Quarter')\n",
        "plt.xlabel('Quarter')\n",
        "plt.ylabel('Bike Rental')\n",
        "plt.grid()"
      ]
    },
    {
      "cell_type": "code",
      "execution_count": null,
      "metadata": {
        "id": "8RfS0RvtAtZC"
      },
      "outputs": [],
      "source": []
    },
    {
      "cell_type": "markdown",
      "metadata": {
        "id": "eedzX0b7AtZC"
      },
      "source": [
        "**PRACTICE OPPORTUNITY #3 SOLUTION:**\n",
        "- **Retrain the model with less 'max_depth'**\n",
        "- **Comment on the results**"
      ]
    },
    {
      "cell_type": "code",
      "execution_count": null,
      "metadata": {
        "id": "6IMCJHi2AtZC"
      },
      "outputs": [],
      "source": [
        "# Train an XGBoost regressor model\n",
        "\n",
        "import xgboost as xgb\n",
        "\n",
        "model = xgb.XGBRegressor(objective ='reg:squarederror', learning_rate = 1, max_depth = 3, n_estimators = 500)\n",
        "\n",
        "model.fit(X_train, y_train)"
      ]
    },
    {
      "cell_type": "code",
      "execution_count": null,
      "metadata": {
        "id": "neIuTnvIAtZC"
      },
      "outputs": [],
      "source": []
    },
    {
      "cell_type": "markdown",
      "metadata": {
        "id": "IeaPqZ5iAtZC"
      },
      "source": [
        "**PRACTICE OPPORTUNITY #4 SOLUTION:**\n",
        "- **Expand on the parameter grid to include an additional hyperparameter \"gamma\"**\n",
        "- **Try any three reasonable values for gamma. How many fits are run this time? Comment on the results**\n"
      ]
    },
    {
      "cell_type": "code",
      "execution_count": null,
      "metadata": {
        "id": "sVNh9SkdAtZC"
      },
      "outputs": [],
      "source": [
        "from sklearn.model_selection import GridSearchCV\n",
        "parameters_grid = { 'max_depth': [3, 6, 10],\n",
        "                    'learning_rate': [0.01, 0.05, 0.1],\n",
        "                    'n_estimators': [100, 500, 1000],\n",
        "                    'colsample_bytree': [0.3, 0.7],\n",
        "                    'gamma': [1, 0.1, 0.01]}\n",
        "import xgboost as xgb\n",
        "model = xgb.XGBRegressor(objective ='reg:squarederror')\n",
        "# Note that we used the \"neg_mean_squared_error\" since GridSearchCV() ranks all the algorithms (estimators)\n",
        "# and specifies which one is the best. We are trying to minimize the error.\n",
        "xgb_gridsearch = GridSearchCV(estimator = model,\n",
        "                              param_grid = parameters_grid,\n",
        "                              scoring = 'neg_mean_squared_error',\n",
        "                              cv = 5,\n",
        "                              verbose = 5)\n",
        "xgb_gridsearch\n",
        "xgb_gridsearch.fit(X_train, y_train)"
      ]
    },
    {
      "cell_type": "code",
      "execution_count": null,
      "metadata": {
        "id": "Zf6cbSjPAtZC"
      },
      "outputs": [],
      "source": [
        "xgb_gridsearch.best_params_"
      ]
    },
    {
      "cell_type": "code",
      "execution_count": null,
      "metadata": {
        "id": "F_E_Ulg1AtZC"
      },
      "outputs": [],
      "source": [
        "xgb_gridsearch.best_estimator_"
      ]
    },
    {
      "cell_type": "code",
      "execution_count": null,
      "metadata": {
        "id": "O2bBRyggAtZC"
      },
      "outputs": [],
      "source": [
        "y_predict = xgb_gridsearch.predict(X_test)"
      ]
    },
    {
      "cell_type": "code",
      "execution_count": null,
      "metadata": {
        "id": "YxofVn5LAtZD"
      },
      "outputs": [],
      "source": [
        "from sklearn.metrics import r2_score, mean_squared_error, mean_absolute_error\n",
        "from math import sqrt\n",
        "k = X_test.shape[1]\n",
        "n = len(X_test)\n",
        "RMSE = float(format(np.sqrt(mean_squared_error(y_test, y_predict)),'.3f'))\n",
        "MSE = mean_squared_error(y_test, y_predict)\n",
        "MAE = mean_absolute_error(y_test, y_predict)\n",
        "r2 = r2_score(y_test, y_predict)\n",
        "adj_r2 = 1-(1-r2)*(n-1)/(n-k-1)\n",
        "\n",
        "print('RMSE =',RMSE, '\\nMSE =',MSE, '\\nMAE =',MAE, '\\nR2 =', r2, '\\nAdjusted R2 =', adj_r2)"
      ]
    },
    {
      "cell_type": "code",
      "execution_count": null,
      "metadata": {
        "id": "bvur1qqVAtZD"
      },
      "outputs": [],
      "source": []
    }
  ],
  "metadata": {
    "accelerator": "GPU",
    "colab": {
      "provenance": [],
      "include_colab_link": true
    },
    "gpuClass": "standard",
    "kernelspec": {
      "display_name": "Python 3",
      "name": "python3"
    },
    "language_info": {
      "name": "python"
    }
  },
  "nbformat": 4,
  "nbformat_minor": 0
}